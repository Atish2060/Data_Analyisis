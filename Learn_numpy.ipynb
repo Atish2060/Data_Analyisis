{
 "cells": [
  {
   "cell_type": "markdown",
   "id": "58df368b",
   "metadata": {},
   "source": [
    "Going through the numpy...."
   ]
  },
  {
   "cell_type": "markdown",
   "id": "8878de75",
   "metadata": {},
   "source": [
    "Concept of arrays"
   ]
  },
  {
   "cell_type": "code",
   "execution_count": 5,
   "id": "25bfbf52",
   "metadata": {},
   "outputs": [
    {
     "name": "stdout",
     "output_type": "stream",
     "text": [
      "[[ 1  2  3  4  5]\n",
      " [ 7  8  9 10 11]]\n",
      "['a' 'b' 'c']\n",
      "(2, 5)\n",
      "(3,)\n"
     ]
    }
   ],
   "source": [
    "import numpy as np\n",
    "\n",
    "arr1 = np.array([[1,2,3,4,5],[7,8,9,10,11]])\n",
    "arr2 = np.array([\"a\", \"b\", \"c\"])\n",
    "print(arr1)\n",
    "print(arr2)\n",
    "print(arr1.shape)\n",
    "print(arr2.shape)"
   ]
  }
 ],
 "metadata": {
  "kernelspec": {
   "display_name": "Python 3",
   "language": "python",
   "name": "python3"
  },
  "language_info": {
   "codemirror_mode": {
    "name": "ipython",
    "version": 3
   },
   "file_extension": ".py",
   "mimetype": "text/x-python",
   "name": "python",
   "nbconvert_exporter": "python",
   "pygments_lexer": "ipython3",
   "version": "3.13.7"
  }
 },
 "nbformat": 4,
 "nbformat_minor": 5
}
