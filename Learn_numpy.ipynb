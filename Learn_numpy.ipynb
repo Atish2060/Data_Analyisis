{
 "cells": [
  {
   "cell_type": "markdown",
   "id": "58df368b",
   "metadata": {},
   "source": [
    "Going through the numpy...."
   ]
  },
  {
   "cell_type": "markdown",
   "id": "8878de75",
   "metadata": {},
   "source": [
    "Concept of arrays"
   ]
  },
  {
   "cell_type": "code",
   "execution_count": 4,
   "id": "5a74f1ea",
   "metadata": {},
   "outputs": [],
   "source": [
    "import numpy as np"
   ]
  },
  {
   "cell_type": "code",
   "execution_count": null,
   "id": "25bfbf52",
   "metadata": {},
   "outputs": [
    {
     "name": "stdout",
     "output_type": "stream",
     "text": [
      "[[ 1  2  3  4  5]\n",
      " [ 7  8  9 10 11]]\n",
      "['a' 'b' 'c']\n",
      "(2, 5)\n",
      "(3,)\n"
     ]
    }
   ],
   "source": [
    "\n",
    "\n",
    "arr1 = np.array([[1,2,3,4,5],[7,8,9,10,11]])\n",
    "arr2 = np.array([\"a\", \"b\", \"c\"])\n",
    "print(arr1)\n",
    "print(arr2)\n",
    "print(arr1.shape)\n",
    "print(arr2.shape)"
   ]
  },
  {
   "cell_type": "code",
   "execution_count": 9,
   "id": "c3daf697",
   "metadata": {},
   "outputs": [
    {
     "name": "stdout",
     "output_type": "stream",
     "text": [
      "[[ 1]\n",
      " [ 3]\n",
      " [ 5]\n",
      " [ 7]\n",
      " [ 9]\n",
      " [11]]\n"
     ]
    }
   ],
   "source": [
    "#arrange method\n",
    "\n",
    "a = np.arange(1,13,2)\n",
    "b = a.reshape(6,1)\n",
    "print(b)"
   ]
  },
  {
   "cell_type": "code",
   "execution_count": 14,
   "id": "15cab4ee",
   "metadata": {},
   "outputs": [
    {
     "data": {
      "text/plain": [
       "array([[1., 1., 1., 1., 1., 1.],\n",
       "       [1., 1., 1., 1., 1., 1.],\n",
       "       [1., 1., 1., 1., 1., 1.],\n",
       "       [1., 1., 1., 1., 1., 1.],\n",
       "       [1., 1., 1., 1., 1., 1.]])"
      ]
     },
     "execution_count": 14,
     "metadata": {},
     "output_type": "execute_result"
    }
   ],
   "source": [
    "#ones function \n",
    "\n",
    "np.ones((5,6))"
   ]
  },
  {
   "cell_type": "code",
   "execution_count": 17,
   "id": "3a9f7ce8",
   "metadata": {},
   "outputs": [
    {
     "data": {
      "text/plain": [
       "array([[1., 0., 0., 0., 0.],\n",
       "       [0., 1., 0., 0., 0.],\n",
       "       [0., 0., 1., 0., 0.],\n",
       "       [0., 0., 0., 1., 0.],\n",
       "       [0., 0., 0., 0., 1.]])"
      ]
     },
     "execution_count": 17,
     "metadata": {},
     "output_type": "execute_result"
    }
   ],
   "source": [
    "#identity matrix\n",
    "\n",
    "np.eye(5)"
   ]
  },
  {
   "cell_type": "markdown",
   "id": "0ffd29fd",
   "metadata": {},
   "source": [
    "Numpy Vectorized Operations"
   ]
  },
  {
   "cell_type": "code",
   "execution_count": 5,
   "id": "bcc48c2a",
   "metadata": {},
   "outputs": [
    {
     "name": "stdout",
     "output_type": "stream",
     "text": [
      "Addition:  [21 14 10 17  4]\n",
      "Substraction:  [-1 -4  2  5  0]\n",
      "Multiplication:  [110  45  24  66   4]\n",
      "Division:  [0.90909091 0.55555556 1.5        1.83333333 1.        ]\n"
     ]
    }
   ],
   "source": [
    "arr1 = np.array([10,5,6,11,2])\n",
    "arr2 = np.array([11,9,4,6,2])\n",
    "#element wise addition\n",
    "print(\"Addition: \",arr1 + arr2)\n",
    "#element wise substraction\n",
    "print(\"Substraction: \",arr1 - arr2)\n",
    "#element wise multipication\n",
    "print(\"Multiplication: \", arr1 * arr2)\n",
    "#element wise division\n",
    "print(\"Division: \",arr1 / arr2)"
   ]
  },
  {
   "cell_type": "markdown",
   "id": "025b5e5a",
   "metadata": {},
   "source": [
    "Universal Function"
   ]
  },
  {
   "cell_type": "code",
   "execution_count": 7,
   "id": "ee0f4a77",
   "metadata": {},
   "outputs": [
    {
     "name": "stdout",
     "output_type": "stream",
     "text": [
      "Square root:  [2.         2.82842712 1.73205081 2.82842712 6.70820393 0.        ]\n",
      "Exponential value:  [5.45981500e+01 2.98095799e+03 2.00855369e+01 2.98095799e+03\n",
      " 3.49342711e+19 1.00000000e+00]\n",
      "Sin Value:  [-0.7568025   0.98935825  0.14112001  0.98935825  0.85090352  0.        ]\n",
      "Cos value:  [-0.65364362 -0.14550003 -0.9899925  -0.14550003  0.52532199  1.        ]\n",
      "Natural log:  [1.38629436 2.07944154 1.09861229 2.07944154 3.80666249]\n"
     ]
    }
   ],
   "source": [
    "arr = np.array([4,8,3,8,45,0])\n",
    "arr2 = np.array([4,8,3,8,45])\n",
    "\n",
    "#square root\n",
    "print(\"Square root: \",np.sqrt(arr))\n",
    "#exponential\n",
    "print(\"Exponential value: \",np.exp(arr))\n",
    "#sin\n",
    "print(\"Sin Value: \", np.sin(arr))\n",
    "\n",
    "#cos\n",
    "print(\"Cos value: \",np.cos(arr))\n",
    "\n",
    "#natural log\n",
    "print(\"Natural log: \",np.log(arr2))\n"
   ]
  },
  {
   "cell_type": "markdown",
   "id": "c42f8101",
   "metadata": {},
   "source": [
    "Array slicing and indexing"
   ]
  },
  {
   "cell_type": "code",
   "execution_count": null,
   "id": "ee641a2b",
   "metadata": {},
   "outputs": [
    {
     "name": "stdout",
     "output_type": "stream",
     "text": [
      "Given Array is:\n",
      " [[ 1  2  3  4]\n",
      " [ 5  6  7  8]\n",
      " [ 9 10 11 12]]\n",
      "First row second column element is: 2\n",
      "Elements after 7 in second row and elements after 11 in thrid row:\n",
      " [[ 7  8]\n",
      " [11 12]]\n",
      "\n",
      " [[3 4]\n",
      " [7 8]]\n",
      "\n",
      " [[ 6  7]\n",
      " [10 11]]\n",
      "\n",
      " [[1 3 2]\n",
      " [5 7 6]]\n"
     ]
    }
   ],
   "source": [
    "arr = np.array([[1,2,3,4],[5,6,7,8],[9,10,11,12]])\n",
    "print(\"Given Array is:\\n\",arr)\n",
    "\n",
    "print(\"First row second column element is:\", arr[0][1])\n",
    "\n",
    "#picking particular part of row and column\n",
    "\n",
    "print(\"Elements after 7 in second row and elements after 11 in thrid row:\\n\",arr[1:,2:])\n",
    "\n",
    "print(\"\\n\", arr[0:2,2:])\n",
    "\n",
    "print(\"\\n\",arr[1:3,1:3] )\n",
    "\n",
    "#Gives element of 1st and third column of first and second row\n",
    "print(\"\\n element of 1st and third column of first and second row:\\n\", arr[[0,1],:][:,[0,2]])"
   ]
  },
  {
   "cell_type": "markdown",
   "id": "c75cb959",
   "metadata": {},
   "source": [
    "Modify the array elements"
   ]
  },
  {
   "cell_type": "code",
   "execution_count": 42,
   "id": "5926313a",
   "metadata": {},
   "outputs": [
    {
     "name": "stdout",
     "output_type": "stream",
     "text": [
      "[[ 1  2  3  4]\n",
      " [ 5  6  7  5]\n",
      " [ 9 10 11 12]]\n",
      "Making every element of 1st to 2nd row and 1st to 3rd column to 1:\n",
      " [[ 1  1  1  4]\n",
      " [ 1  1  1  5]\n",
      " [ 1  1  1 12]]\n"
     ]
    }
   ],
   "source": [
    "arr[1,3] = 5\n",
    "print(arr)\n",
    "\n",
    "arr[0:3,0:3] = 1\n",
    "print(\"Making every element of 1st to 2nd row and 1st to 3rd column to 1:\\n\",arr)\n"
   ]
  },
  {
   "cell_type": "markdown",
   "id": "1ada73f8",
   "metadata": {},
   "source": [
    "Concept of Normalization:\n",
    "\n",
    "Standard normal distribution concept:\n",
    "\n",
    "Formula (value - mean) / SD\n"
   ]
  },
  {
   "cell_type": "code",
   "execution_count": 43,
   "id": "672fce93",
   "metadata": {},
   "outputs": [
    {
     "name": "stdout",
     "output_type": "stream",
     "text": [
      "Normalized value:\n",
      " [-1.59200589 -0.45485883  0.30323922  1.44038628  0.30323922]\n"
     ]
    }
   ],
   "source": [
    "arr = np.array([2,5,7,10,7])\n",
    "\n",
    "mean_value = np.mean(arr)\n",
    "SD_value = np.std(arr)\n",
    "\n",
    "normalized_value = (arr - mean_value)  / SD_value\n",
    "\n",
    "print(\"Normalized value:\\n\",normalized_value)"
   ]
  },
  {
   "cell_type": "markdown",
   "id": "944c5f7c",
   "metadata": {},
   "source": [
    "Calculation mean, median, standard deviation and variance"
   ]
  },
  {
   "cell_type": "code",
   "execution_count": 44,
   "id": "1126f458",
   "metadata": {},
   "outputs": [
    {
     "name": "stdout",
     "output_type": "stream",
     "text": [
      "Mean is:\n",
      " 3.8\n",
      "Median is:\n",
      " 3.0\n",
      "SD is:\n",
      " 2.4819347291981715\n",
      "Variance is:\n",
      " 6.16\n"
     ]
    }
   ],
   "source": [
    "arr = np.array([2,5,8,1,3])\n",
    "\n",
    "mean = np.mean(arr)\n",
    "print(\"Mean is:\\n\", mean)\n",
    "\n",
    "median = np.median(arr)\n",
    "print(\"Median is:\\n\", median)\n",
    "\n",
    "sd = np.std(arr)\n",
    "print(\"SD is:\\n\", sd)\n",
    "\n",
    "var = np.var(arr)\n",
    "print(\"Variance is:\\n\", var)"
   ]
  },
  {
   "cell_type": "markdown",
   "id": "6f7ef60e",
   "metadata": {},
   "source": [
    "Logical operations "
   ]
  },
  {
   "cell_type": "code",
   "execution_count": 49,
   "id": "ffb7eaf4",
   "metadata": {},
   "outputs": [
    {
     "name": "stdout",
     "output_type": "stream",
     "text": [
      "[False False  True  True  True]\n",
      "[ 7  9 10]\n",
      "[ 4  7  9 10]\n",
      "[4 7]\n"
     ]
    }
   ],
   "source": [
    "data = np.array([2,4,7,9,10])\n",
    "\n",
    "print(data > 5)\n",
    "\n",
    "print(data[data > 5])\n",
    "\n",
    "print(data[data != 2])\n",
    "\n",
    "print(data[(data > 2) & (data < 9)])"
   ]
  }
 ],
 "metadata": {
  "kernelspec": {
   "display_name": "Python 3",
   "language": "python",
   "name": "python3"
  },
  "language_info": {
   "codemirror_mode": {
    "name": "ipython",
    "version": 3
   },
   "file_extension": ".py",
   "mimetype": "text/x-python",
   "name": "python",
   "nbconvert_exporter": "python",
   "pygments_lexer": "ipython3",
   "version": "3.13.7"
  }
 },
 "nbformat": 4,
 "nbformat_minor": 5
}
