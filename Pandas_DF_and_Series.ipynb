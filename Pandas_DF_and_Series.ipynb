{
 "cells": [
  {
   "cell_type": "markdown",
   "id": "794315f4",
   "metadata": {},
   "source": [
    "Learning pandas -- Dataframe and Series"
   ]
  },
  {
   "cell_type": "code",
   "execution_count": 2,
   "id": "46e07020",
   "metadata": {},
   "outputs": [],
   "source": [
    "import pandas as pd"
   ]
  },
  {
   "cell_type": "markdown",
   "id": "351ed38d",
   "metadata": {},
   "source": [
    "Learning about Series in python"
   ]
  },
  {
   "cell_type": "code",
   "execution_count": 2,
   "id": "e33982ea",
   "metadata": {},
   "outputs": [
    {
     "name": "stdout",
     "output_type": "stream",
     "text": [
      "Index\tData\n",
      " 0    1\n",
      "1    2\n",
      "2    3\n",
      "3    4\n",
      "4    5\n",
      "dtype: int64\n"
     ]
    }
   ],
   "source": [
    "#Create series from list\n",
    "data1 = [1,2,3,4,5]\n",
    "series_data1 = pd.Series(data1)\n",
    "print(\"Index\\tData\\n\",series_data1)\n"
   ]
  },
  {
   "cell_type": "code",
   "execution_count": 3,
   "id": "6282d6ee",
   "metadata": {},
   "outputs": [
    {
     "name": "stdout",
     "output_type": "stream",
     "text": [
      "Key\tValue\n",
      " 1    a\n",
      "2    b\n",
      "3    c\n",
      "dtype: object\n"
     ]
    }
   ],
   "source": [
    "#Create series from dictionary\n",
    "\n",
    "dict_data = {1:\"a\",2:\"b\",3:\"c\"}\n",
    "series_dict_data = pd.Series(dict_data)\n",
    "print(\"Key\\tValue\\n\",series_dict_data)"
   ]
  },
  {
   "cell_type": "code",
   "execution_count": 4,
   "id": "44d526ee",
   "metadata": {},
   "outputs": [
    {
     "name": "stdout",
     "output_type": "stream",
     "text": [
      "a    1\n",
      "b    2\n",
      "c    3\n",
      "dtype: int64\n"
     ]
    }
   ],
   "source": [
    "data2 = [1,2,3]\n",
    "index2 = [\"a\",\"b\",\"c\"]\n",
    "print(pd.Series(data=data2, index=index2))"
   ]
  },
  {
   "cell_type": "markdown",
   "id": "029a7306",
   "metadata": {},
   "source": [
    "Learn About DataFrame"
   ]
  },
  {
   "cell_type": "code",
   "execution_count": 37,
   "id": "72bfffd1",
   "metadata": {},
   "outputs": [
    {
     "name": "stdout",
     "output_type": "stream",
     "text": [
      "     Name  Age       City\n",
      "0   Atish   21  Kathmandu\n",
      "1    Arik   21   Sindhuli\n",
      "2  Bimala   46      Jhapa\n",
      "3  Dinesh   52   Dhankuta\n"
     ]
    }
   ],
   "source": [
    "#Creating a dataframe from dictionary\n",
    "\n",
    "data = {\n",
    "    \"Name\":[\"Atish\",\"Arik\",\"Bimala\",\"Dinesh\"],\n",
    "    \"Age\":[21,21,46,52],\n",
    "    \"City\":[\"Kathmandu\",\"Sindhuli\",\"Jhapa\",\"Dhankuta\"]\n",
    "    \n",
    "}\n",
    "df = pd.DataFrame(data)\n",
    "print(df)"
   ]
  },
  {
   "cell_type": "code",
   "execution_count": 8,
   "metadata": {},
   "outputs": [
    {
     "name": "stdout",
     "output_type": "stream",
     "text": [
      "[['Atish' 21 'Kathmandu']\n",
      " ['Arik' 21 'Sindhuli']\n",
      " ['Bimala' 46 'Jhapa']\n",
      " ['Dinesh' 52 'Dhankuta']]\n"
     ]
    }
   ],
   "source": [
    "import numpy as np\n",
    "print(np.array(df))\n"
   ]
  },
  {
   "cell_type": "code",
   "execution_count": 10,
   "id": "4ab35ec5",
   "metadata": {},
   "outputs": [
    {
     "name": "stdout",
     "output_type": "stream",
     "text": [
      "     Name  Age       City\n",
      "0   Atish   21  Kathmandu\n",
      "1    Arik   21  Kathmandu\n",
      "2  Jenish   21  Kathmandu\n",
      "3   Sabin   21  Kathmandu\n"
     ]
    }
   ],
   "source": [
    "#Create a dataframe from list of dictionaries\n",
    "\n",
    "data = [\n",
    "    {\"Name\":\"Atish\",\"Age\":21,\"City\":\"Kathmandu\"},\n",
    "    {\"Name\":\"Arik\",\"Age\":21,\"City\":\"Kathmandu\"},\n",
    "    {\"Name\":\"Jenish\",\"Age\":21,\"City\":\"Kathmandu\"},\n",
    "    {\"Name\":\"Sabin\",\"Age\":21,\"City\":\"Kathmandu\"},\n",
    "]\n",
    "df1 = pd.DataFrame(data=data)\n",
    "print(df1)"
   ]
  },
  {
   "cell_type": "code",
   "execution_count": null,
   "id": "cd045b9a",
   "metadata": {},
   "outputs": [
    {
     "name": "stdout",
     "output_type": "stream",
     "text": [
      "  Series_reference   Period  Data_value  Suppressed STATUS   UNITS  Magnitude  \\\n",
      "0      BDCQ.SEA1AA  2011.06       80078         NaN      F  Number          0   \n",
      "1      BDCQ.SEA1AA  2011.09       78324         NaN      F  Number          0   \n",
      "2      BDCQ.SEA1AA  2011.12       85850         NaN      F  Number          0   \n",
      "3      BDCQ.SEA1AA  2012.03       90743         NaN      F  Number          0   \n",
      "4      BDCQ.SEA1AA  2012.06       81780         NaN      F  Number          0   \n",
      "\n",
      "                          Subject                            Group  \\\n",
      "0  Business Data Collection - BDC  Industry by employment variable   \n",
      "1  Business Data Collection - BDC  Industry by employment variable   \n",
      "2  Business Data Collection - BDC  Industry by employment variable   \n",
      "3  Business Data Collection - BDC  Industry by employment variable   \n",
      "4  Business Data Collection - BDC  Industry by employment variable   \n",
      "\n",
      "  Series_title_1                     Series_title_2 Series_title_3  \\\n",
      "0    Filled jobs  Agriculture, Forestry and Fishing         Actual   \n",
      "1    Filled jobs  Agriculture, Forestry and Fishing         Actual   \n",
      "2    Filled jobs  Agriculture, Forestry and Fishing         Actual   \n",
      "3    Filled jobs  Agriculture, Forestry and Fishing         Actual   \n",
      "4    Filled jobs  Agriculture, Forestry and Fishing         Actual   \n",
      "\n",
      "   Series_title_4  Series_title_5  \n",
      "0             NaN             NaN  \n",
      "1             NaN             NaN  \n",
      "2             NaN             NaN  \n",
      "3             NaN             NaN  \n",
      "4             NaN             NaN  \n"
     ]
    }
   ],
   "source": [
    "df = pd.read_csv(\"business.csv\")\n",
    "print(df.head(5))  #For printing first five data from the csv file"
   ]
  },
  {
   "cell_type": "code",
   "execution_count": 12,
   "id": "3077b104",
   "metadata": {},
   "outputs": [
    {
     "name": "stdout",
     "output_type": "stream",
     "text": [
      "   Series_reference   Period  Data_value  Suppressed STATUS   UNITS  \\\n",
      "24      BDCQ.SEA1AA  2017.06       90510         NaN      F  Number   \n",
      "25      BDCQ.SEA1AA  2017.09       87089         NaN      F  Number   \n",
      "26      BDCQ.SEA1AA  2017.12       98933         NaN      F  Number   \n",
      "27      BDCQ.SEA1AA  2018.03      101168         NaN      F  Number   \n",
      "28      BDCQ.SEA1AA  2018.06       90766         NaN      F  Number   \n",
      "29      BDCQ.SEA1AA  2018.09       86929         NaN      F  Number   \n",
      "\n",
      "    Magnitude                         Subject  \\\n",
      "24          0  Business Data Collection - BDC   \n",
      "25          0  Business Data Collection - BDC   \n",
      "26          0  Business Data Collection - BDC   \n",
      "27          0  Business Data Collection - BDC   \n",
      "28          0  Business Data Collection - BDC   \n",
      "29          0  Business Data Collection - BDC   \n",
      "\n",
      "                              Group Series_title_1  \\\n",
      "24  Industry by employment variable    Filled jobs   \n",
      "25  Industry by employment variable    Filled jobs   \n",
      "26  Industry by employment variable    Filled jobs   \n",
      "27  Industry by employment variable    Filled jobs   \n",
      "28  Industry by employment variable    Filled jobs   \n",
      "29  Industry by employment variable    Filled jobs   \n",
      "\n",
      "                       Series_title_2 Series_title_3  Series_title_4  \\\n",
      "24  Agriculture, Forestry and Fishing         Actual             NaN   \n",
      "25  Agriculture, Forestry and Fishing         Actual             NaN   \n",
      "26  Agriculture, Forestry and Fishing         Actual             NaN   \n",
      "27  Agriculture, Forestry and Fishing         Actual             NaN   \n",
      "28  Agriculture, Forestry and Fishing         Actual             NaN   \n",
      "29  Agriculture, Forestry and Fishing         Actual             NaN   \n",
      "\n",
      "    Series_title_5  \n",
      "24             NaN  \n",
      "25             NaN  \n",
      "26             NaN  \n",
      "27             NaN  \n",
      "28             NaN  \n",
      "29             NaN  \n"
     ]
    }
   ],
   "source": [
    "print(df.tail(6))          #Last six data of the csv file"
   ]
  },
  {
   "cell_type": "code",
   "execution_count": 17,
   "id": "cf5c8888",
   "metadata": {},
   "outputs": [
    {
     "name": "stdout",
     "output_type": "stream",
     "text": [
      "     Name  Age       City\n",
      "0   Atish   21  Kathmandu\n",
      "1    Arik   21   Sindhuli\n",
      "2  Bimala   46      Jhapa\n",
      "3  Dinesh   52   Dhankuta\n",
      "0    21\n",
      "1    21\n",
      "2    46\n",
      "3    52\n",
      "Name: Age, dtype: int64\n"
     ]
    }
   ],
   "source": [
    "#Accessing the data from the dataframe\n",
    "print(df)\n",
    "print(df[\"Age\"])"
   ]
  },
  {
   "cell_type": "code",
   "execution_count": 39,
   "id": "cb202671",
   "metadata": {},
   "outputs": [
    {
     "name": "stdout",
     "output_type": "stream",
     "text": [
      "Name        Atish\n",
      "Age            21\n",
      "City    Kathmandu\n",
      "Name: 0, dtype: object\n",
      "\n",
      "\n",
      "\n",
      "0    Atish\n",
      "1     Arik\n",
      "Name: Name, dtype: object\n"
     ]
    }
   ],
   "source": [
    "#Accessing particular row and column of csv\n",
    "\n",
    "print(df.loc[0])\n",
    "print(\"\\n\\n\")\n",
    "\n",
    "print(df.iloc[0:2,0])"
   ]
  },
  {
   "cell_type": "code",
   "execution_count": 3,
   "id": "a8300b29",
   "metadata": {},
   "outputs": [
    {
     "name": "stdout",
     "output_type": "stream",
     "text": [
      "   A  B\n",
      "x  1  4\n",
      "y  2  5\n",
      "z  3  6\n",
      "\n",
      "\n",
      "\n",
      "A    2\n",
      "B    5\n",
      "Name: y, dtype: int64\n",
      "\n",
      "\n",
      "\n",
      "x    1\n",
      "y    2\n",
      "z    3\n",
      "Name: A, dtype: int64\n",
      "\n",
      "\n",
      "\n",
      "y    5\n",
      "z    6\n",
      "Name: B, dtype: int64\n",
      "\n",
      "\n",
      "\n",
      "4\n",
      "\n",
      "\n",
      "\n",
      "x    4\n",
      "y    5\n",
      "z    6\n",
      "Name: B, dtype: int64\n",
      "\n",
      "\n",
      "\n",
      "1\n"
     ]
    }
   ],
   "source": [
    "\n",
    "\n",
    "df = pd.DataFrame({'A': [1, 2, 3], 'B': [4, 5, 6]}, index=['x', 'y', 'z'])\n",
    "print(df)\n",
    "print(\"\\n\\n\")\n",
    "    # Select row with label 'y' and column 'A'\n",
    "print(df.loc['y'])\n",
    "print(\"\\n\\n\")\n",
    "    # Select rows from 'x' to 'z' (inclusive) and all columns\n",
    "print(df.loc['x':'z', \"A\"])\n",
    "print(\"\\n\\n\")\n",
    "    # Select rows where column 'A' is greater than 1\n",
    "print(df.loc[df['A'] > 1,\"B\" ])\n",
    "\n",
    "print(\"\\n\\n\")\n",
    "\n",
    "# Select row at integer position 1 and column at integer position 0\n",
    "print(df.iloc[0,1])\n",
    "\n",
    "print(\"\\n\\n\")\n",
    "print(df.iloc[0:3,1])\n",
    "\n",
    "print(\"\\n\\n\")\n",
    "print(df.loc[\"x\",\"A\"])"
   ]
  },
  {
   "cell_type": "code",
   "execution_count": 45,
   "id": "ba73bfc5",
   "metadata": {},
   "outputs": [
    {
     "name": "stdout",
     "output_type": "stream",
     "text": [
      "     Name  Age       City\n",
      "0   Atish   21  Kathmandu\n",
      "1    Arik   21   Sindhuli\n",
      "2  Bimala   46      Jhapa\n",
      "3  Dinesh   52   Dhankuta\n",
      "\n",
      "\n",
      "Kathmandu\n",
      "\n",
      "\n",
      "Bimala\n"
     ]
    }
   ],
   "source": [
    "#Accessing a specified element\n",
    "\n",
    "print(df)\n",
    "print(\"\\n\")\n",
    "print(df.at[0,\"City\"])\n",
    "print(\"\\n\")\n",
    "print(df.at[2,\"Name\"])"
   ]
  },
  {
   "cell_type": "code",
   "execution_count": 48,
   "id": "ea591ac6",
   "metadata": {},
   "outputs": [
    {
     "name": "stdout",
     "output_type": "stream",
     "text": [
      "21\n",
      "\n",
      "\n",
      "Kathmandu\n"
     ]
    }
   ],
   "source": [
    "#Accessing a specified element using iat\n",
    "\n",
    "print(df.iat[0,1])\n",
    "\n",
    "print(\"\\n\")\n",
    "\n",
    "print(df.iat[0, 2])"
   ]
  },
  {
   "cell_type": "code",
   "execution_count": 50,
   "id": "36425a73",
   "metadata": {},
   "outputs": [
    {
     "name": "stdout",
     "output_type": "stream",
     "text": [
      "     Name  Age       City  Salary\n",
      "0   Atish   21  Kathmandu  100000\n",
      "1    Arik   21   Sindhuli   90000\n",
      "2  Bimala   46      Jhapa   50000\n",
      "3  Dinesh   52   Dhankuta   60000\n",
      "     Name  Age       City\n",
      "0   Atish   21  Kathmandu\n",
      "1    Arik   21   Sindhuli\n",
      "2  Bimala   46      Jhapa\n",
      "3  Dinesh   52   Dhankuta\n"
     ]
    }
   ],
   "source": [
    "#data manipulation with dataframes\n",
    "\n",
    "df[\"Salary\"] = [100000,90000,50000,60000]    #Adding a column\n",
    "print(df)\n",
    "\n",
    "df.drop(\"Salary\", axis=1, inplace= True)  # Axis = 0 for row and axis = 1 for column ....  inplace = True for deleting permanently\n",
    "\n",
    "print(df)"
   ]
  },
  {
   "cell_type": "code",
   "execution_count": null,
   "id": "4818c7cd",
   "metadata": {},
   "outputs": [
    {
     "name": "stdout",
     "output_type": "stream",
     "text": [
      "     Name  Age       City\n",
      "0   Atish   22  Kathmandu\n",
      "1    Arik   22   Sindhuli\n",
      "2  Bimala   47      Jhapa\n",
      "3  Dinesh   53   Dhankuta\n"
     ]
    }
   ],
   "source": [
    "#Adding age to the column\n",
    "\n",
    "df[\"Age\"] = df[\"Age\"]+1\n",
    "print(df)"
   ]
  },
  {
   "cell_type": "code",
   "execution_count": 57,
   "id": "d6a58629",
   "metadata": {},
   "outputs": [
    {
     "name": "stdout",
     "output_type": "stream",
     "text": [
      "     Name  Age       City\n",
      "0   Atish   22  Kathmandu\n",
      "1   Arika   22   Sindhuli\n",
      "2  Bimala   47      Jhapa\n",
      "3  Dinesh   53   Dhankuta\n"
     ]
    }
   ],
   "source": [
    "\n",
    "df.iat[1,0] = \"Arika\"\n",
    "print(df)"
   ]
  },
  {
   "cell_type": "code",
   "execution_count": 59,
   "id": "0b55bdd8",
   "metadata": {},
   "outputs": [
    {
     "name": "stdout",
     "output_type": "stream",
     "text": [
      "     Name  Age       City\n",
      "0   Atish   22  Kathmandu\n",
      "1   Arika   22   Sindhuli\n",
      "2  Bimala   47      Jhapa\n",
      "3  Dinesh   53   Dhankuta\n",
      "4  Jenish   22    Sunsari\n"
     ]
    }
   ],
   "source": [
    "#Adding a row\n",
    "df.loc[len(df)] = [\"Jenish\", 22, \"Sunsari\"]\n",
    "print(df)"
   ]
  },
  {
   "cell_type": "code",
   "execution_count": 60,
   "id": "978df0ce",
   "metadata": {},
   "outputs": [
    {
     "name": "stdout",
     "output_type": "stream",
     "text": [
      "     Name  Age       City\n",
      "0   Atish   22  Kathmandu\n",
      "1   Arika   22   Sindhuli\n",
      "2  Bimala   47      Jhapa\n",
      "3  Dinesh   53   Dhankuta\n"
     ]
    }
   ],
   "source": [
    "#Deleting a row\n",
    "df.drop(4, inplace= True)\n",
    "print(df)"
   ]
  },
  {
   "cell_type": "code",
   "execution_count": 63,
   "id": "170cdea2",
   "metadata": {},
   "outputs": [
    {
     "name": "stdout",
     "output_type": "stream",
     "text": [
      "             Age\n",
      "count   4.000000\n",
      "mean   36.000000\n",
      "std    16.350331\n",
      "min    22.000000\n",
      "25%    22.000000\n",
      "50%    34.500000\n",
      "75%    48.500000\n",
      "max    53.000000\n"
     ]
    }
   ],
   "source": [
    "#To see the statistical summary using describe\n",
    "\n",
    "print(df.describe())"
   ]
  }
 ],
 "metadata": {
  "kernelspec": {
   "display_name": "Python 3",
   "language": "python",
   "name": "python3"
  },
  "language_info": {
   "codemirror_mode": {
    "name": "ipython",
    "version": 3
   },
   "file_extension": ".py",
   "mimetype": "text/x-python",
   "name": "python",
   "nbconvert_exporter": "python",
   "pygments_lexer": "ipython3",
   "version": "3.13.7"
  }
 },
 "nbformat": 4,
 "nbformat_minor": 5
}
